{
 "cells": [
  {
   "cell_type": "markdown",
   "metadata": {},
   "source": [
    "## Assignment: Automatic Cancer Diagnostic"
   ]
  },
  {
   "cell_type": "markdown",
   "metadata": {},
   "source": [
    "Firstly, I will be importing the neccessary modules which are required to perform certain operations.Then, I will be loading the neccessary datasets using load_from_csv function.\n",
    "This function will have one parameter, a file name. The function will read the CSV file and return a matrix (list of lists) in which a row in the file is a row in the matrix. "
   ]
  },
  {
   "cell_type": "code",
   "execution_count": 1,
   "metadata": {},
   "outputs": [],
   "source": [
    "import csv\n",
    "import math\n",
    "import operator\n",
    "import statistics\n",
    "import random"
   ]
  },
  {
   "cell_type": "code",
   "execution_count": 2,
   "metadata": {},
   "outputs": [],
   "source": [
    "# Importing CSV to create a table-like custom objects from the items in CSV files.\n",
    "def load_from_csv(filename):\n",
    "    from csv import reader\n",
    "    # Reading the csv file as a list of lists\n",
    "    with open(filename, 'r') as read_obj:\n",
    "    # Passing the file object to reader() to get the reader object\n",
    "        csv_reader = reader(read_obj)\n",
    "    # Passing the reader object to list() to get a list of lists\n",
    "        list_of_rows = list(csv_reader)\n",
    "    for i in range(0, len(list_of_rows)): #coverting str to int\n",
    "        for j in range(0, len(list_of_rows[i])):\n",
    "            list_of_rows[i][j] = int(list_of_rows[i][j]) \n",
    "    return list_of_rows"
   ]
  },
  {
   "cell_type": "markdown",
   "metadata": {},
   "source": [
    "We need to calculate Standard deviation. Standard deviation is a number that describes how spread out the values are. A low standard deviation means that most of the numbers are close to the mean (average) value. A high standard deviation means that the values are spread out over a wider range.\n",
    "We need to calculate Standard deviation using get_standard_deviation function. In this function, it will have two parameters, a matrix and a column number. \n",
    "I will be using statistics module of Python which includes a function called statistics.stdev() which used to compute the standard deviation along the specified axis. \n",
    "It will return the standard deviation of the elements in the column number passed as a parameter. \n"
   ]
  },
  {
   "cell_type": "code",
   "execution_count": 3,
   "metadata": {},
   "outputs": [],
   "source": [
    "# Getting all the values for single column from data matrix\n",
    "def get_standard_deviation(matrix, coln_num):\n",
    "    coln_data = [row[coln_num] for row in matrix]\n",
    "    std_dev = statistics.stdev(coln_data)\n",
    "    return float(\"{:.3f}\".format(std_dev))"
   ]
  },
  {
   "cell_type": "markdown",
   "metadata": {},
   "source": [
    "Using the get_standard_deviation function above, we need to standardize the matrix to make sure that the data is internally consistent; that is, each data type has the same content and format. So, we need to use get_standardised_matrix function which returns a matrix containing the standardised version of the matrix passed as a parameter. Standardization can be done by subtracting the mean and dividing by the standard deviation for each value of each feature."
   ]
  },
  {
   "cell_type": "code",
   "execution_count": 4,
   "metadata": {},
   "outputs": [],
   "source": [
    "def get_standardised_matrix(matrix):\n",
    "    data_std = []\n",
    "    coln_len = len(matrix[0])\n",
    "    for coln in range(coln_len):\n",
    "        # Getting the standardize data of the column\n",
    "        coln_data = [row[coln] for row in matrix]\n",
    "        N = len(coln_data)\n",
    "        avg = sum(coln_data) / N\n",
    "        std_dev = get_standard_deviation(matrix, coln)\n",
    "        data_std.append([(value - avg) / std_dev for value in coln_data])\n",
    "        # Converting the standardize data in standardised matrix\n",
    "    std_matrix = [\n",
    "        [row[i] for row in data_std]\n",
    "        for i in range(len(data_std[0]))]\n",
    "    return std_matrix\n"
   ]
  },
  {
   "cell_type": "markdown",
   "metadata": {},
   "source": [
    "We need to calculate the Euclidean distance between the two lists by using get_distance function. This function will have two parameters of out which both of them are lists. I will be using Euclidean distance formula to calculate the distance between two lists"
   ]
  },
  {
   "cell_type": "code",
   "execution_count": 5,
   "metadata": {},
   "outputs": [],
   "source": [
    "def get_distance(list_a, list_b):\n",
    "    if len(list_a) != len(list_b):\n",
    "        return \"Length of both list should be same\"\n",
    "    else:\n",
    "        # Using the Euclidean distance formula between a list_a and a list_b\n",
    "        eucl_dist = math.sqrt(sum([(num1 - num2) ** 2 for num1, num2 in zip(list_a, list_b)]))\n",
    "        return eucl_dist"
   ]
  },
  {
   "cell_type": "markdown",
   "metadata": {},
   "source": [
    "We need to find the nearest labels of each row in data that are closest to the learning data by using get distance function. We need to use get_k_nearest_labels function that will find the k rows of the matrix learning_data that are the closest to the list passed as a parameter. After finding these k rows, it will find and return the related rows in the matrix learning_data_labels. In get_k_nearest_labels function, I will be declaring an empty list which is used to store the distance values. Then, I will be using sort function to sort the distance values in ascending order. Using distance values, we can get the learning data labels for the number of values of k."
   ]
  },
  {
   "cell_type": "code",
   "execution_count": 6,
   "metadata": {},
   "outputs": [],
   "source": [
    "def get_k_nearest_labels(data, Learning_data, Learning_data_labels, k):\n",
    "    dist_values = []   \n",
    "    # Declaring empty list to store the euclidean distance between each row of data and learning data rows\n",
    "    for i in range(len(Learning_data)):\n",
    "        dist = get_distance(data, Learning_data[i])\n",
    "        dist_values.append((Learning_data[i], dist, i))\n",
    "        \n",
    "     # Sorting the distances in ascending order\n",
    "    dist_values.sort(key=operator.itemgetter(1))\n",
    "    \n",
    "    # Getting the k related rows in learning data labels\n",
    "    closest_labels = [Learning_data_labels[dist_values[i][2]] for i in range(k)]\n",
    " \n",
    "    return closest_labels    \n"
   ]
  },
  {
   "cell_type": "markdown",
   "metadata": {},
   "source": [
    "After finding the nearest labels, we need to find the mode between the labels which can be done using get_mode function. This function will have one parameter, a matrix (list of lists). This matrix will have only one column which will be returned by get_k_nearest_labels. This function will return the mode of the numbers in this matrix. The mode of a sequence of numbers is the number with the highest frequency. Here i will be using collections, where we can import Counter function from collections. Counter holds the data in an unordered collection, just like hashtable objects. The elements here represent the keys and the count as values. It allows to count the items in an iterable list. "
   ]
  },
  {
   "cell_type": "markdown",
   "metadata": {},
   "source": [
    "Then, I am importing choice function from random which returns a random element from the sequence. If in the sequence, it has two numbers as highest frequency, then it returns a number random ."
   ]
  },
  {
   "cell_type": "code",
   "execution_count": 7,
   "metadata": {},
   "outputs": [],
   "source": [
    "from collections import Counter\n",
    "from random import choice\n",
    "\n",
    "\n",
    "def get_mode(n_num):\n",
    "    # Using list comprehension to convert a list of lists to a flat list to avoid unhashable lists\n",
    "    n_num = [item for elem in n_num for item in elem]\n",
    "    c = Counter(n_num)\n",
    "    max_count = max(c.values())\n",
    "    return choice([k for k in c if c[k] == max_count])"
   ]
  },
  {
   "cell_type": "markdown",
   "metadata": {},
   "source": [
    "We need to build a Classification algorithm using the functions defined. In classification algorithm, We need to set a positive value for k. Then, for each row x in the matrix data. We need to find:\n",
    " 1. Find the k rows in the matrix learning_data that are the closest to the row x in the matrix data according to the Euclidean distance.\n",
    " 2. Given the rows found on Step 1, find the values of the same row numbers in the matrix learning_data_labels.\n",
    " 3. Given the values found in Step 2, find the most common value. If two (or more) values have the same frequency, choose one of them at random.\n",
    " 4. Set the row x of the matrix data_labels to the value found in Step 3.\n",
    " \n",
    "We need to write a function called classify which returns a matrix described above. \n",
    "This function returns a matrix called the matrix data_labels which will contain an integer representing the label of the row x of the matrix data. A zero means patient x does not have Cancer and a one means the opposite."
   ]
  },
  {
   "cell_type": "code",
   "execution_count": 8,
   "metadata": {},
   "outputs": [],
   "source": [
    "def classify(std_data, std_learning_data, learning_data_labels, k):\n",
    "    \n",
    "    data_labels = []\n",
    "    # Declaring an empty list to store the predicted values\n",
    "    for i in std_data:\n",
    "        data_labels.append(get_k_nearest_labels(i, std_learning_data, learning_data_labels, k))\n",
    "    \n",
    "    for j in range(0, len(data_labels)):\n",
    "        data_labels[j] = get_mode(data_labels[j])\n",
    "    \n",
    "    return data_labels"
   ]
  },
  {
   "cell_type": "markdown",
   "metadata": {},
   "source": [
    "After returning the matrix data_labels, we need to find the accuracy between data_labels and correct_data_labels. This can be done using a function called get_accuracy. This function will have two parameters. A matrix containing the data from the file correct_data_labels (Actual values), and a matrix containing the matrix data_labels (Predicted values). \n",
    "This function will calculate and return the percentage of accuracy. If both matrixes have exactly\n",
    "the same values (in exactly the same row numbers) then the accuracy is of 100%. If only half of the\n",
    "values of both tables match exactly in terms of value and row number, then the accuracy is of 50%,"
   ]
  },
  {
   "cell_type": "code",
   "execution_count": 9,
   "metadata": {},
   "outputs": [],
   "source": [
    "def get_accuracy(actual, predicted):\n",
    "    correct = 0\n",
    "    N = len(actual)\n",
    "    # Since our data_labels also contains list(not list of list) \n",
    "    # Converting correct_data_labels (actual) from list of lists data into list \n",
    "    actual = [j for i in actual for j in i]\n",
    "    for i in range(N):\n",
    "        if actual[i] == predicted[i]:\n",
    "            correct += 1\n",
    "    return correct / N * 100"
   ]
  },
  {
   "cell_type": "markdown",
   "metadata": {},
   "source": [
    "The last function is run_test. Here we need to create one matrix for each of these correct_data_labels, learning_data and learning_data_labels. It should standardise the matrix data and the matrix learning_data (using get_standardised_matrix). Then, it should run the algorithm (using classify) and calculate the accuracy (using get_acuracy) for a series of experiments. In each experiment you should run the algorithm (and calculate the accuracy) for different values of k (go from 3 to 15 in steps of 1), and show the results on the screen. "
   ]
  },
  {
   "cell_type": "code",
   "execution_count": 10,
   "metadata": {},
   "outputs": [],
   "source": [
    "def run_test():\n",
    "    Data = load_from_csv('Data.csv')\n",
    "    Learning_Data = load_from_csv('Learning_Data.csv')\n",
    "    Learning_Data_Labels = load_from_csv('Learning_Data_Labels.csv')\n",
    "    Correct_Data_Labels = load_from_csv('Correct_Data_Labels.csv')\n",
    "    # Standardizing the matrix data and the matrix learning_data (using get_standardised_matrix).\n",
    "    Data_Std = get_standardised_matrix(Data)\n",
    "    Learning_Data_Std = get_standardised_matrix(Learning_Data)\n",
    "    for k in range(3,16):\n",
    "        data_labels = classify(Data_Std, Learning_Data_Std, Learning_Data_Labels, k)\n",
    "        accuracy = get_accuracy(Correct_Data_Labels, data_labels)\n",
    "        print(f\"k={k}, Accuracy={accuracy:.3f}%\")"
   ]
  },
  {
   "cell_type": "code",
   "execution_count": 11,
   "metadata": {},
   "outputs": [
    {
     "name": "stdout",
     "output_type": "stream",
     "text": [
      "k=3, Accuracy=95.000%\n",
      "k=4, Accuracy=95.000%\n",
      "k=5, Accuracy=95.714%\n",
      "k=6, Accuracy=94.286%\n",
      "k=7, Accuracy=94.286%\n",
      "k=8, Accuracy=94.286%\n",
      "k=9, Accuracy=95.714%\n",
      "k=10, Accuracy=95.714%\n",
      "k=11, Accuracy=95.714%\n",
      "k=12, Accuracy=95.714%\n",
      "k=13, Accuracy=95.714%\n",
      "k=14, Accuracy=95.714%\n",
      "k=15, Accuracy=95.000%\n"
     ]
    }
   ],
   "source": [
    "run_test()"
   ]
  }
 ],
 "metadata": {
  "kernelspec": {
   "display_name": "Python 3",
   "language": "python",
   "name": "python3"
  },
  "language_info": {
   "codemirror_mode": {
    "name": "ipython",
    "version": 3
   },
   "file_extension": ".py",
   "mimetype": "text/x-python",
   "name": "python",
   "nbconvert_exporter": "python",
   "pygments_lexer": "ipython3",
   "version": "3.7.6"
  }
 },
 "nbformat": 4,
 "nbformat_minor": 4
}
